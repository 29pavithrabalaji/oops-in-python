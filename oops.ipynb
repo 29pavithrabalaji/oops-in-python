{
 "cells": [
  {
   "cell_type": "markdown",
   "id": "4c4e5676",
   "metadata": {},
   "source": [
    "# class and object\n"
   ]
  },
  {
   "cell_type": "code",
   "execution_count": 11,
   "id": "78167d33",
   "metadata": {},
   "outputs": [
    {
     "name": "stdout",
     "output_type": "stream",
     "text": [
      "The name of the fruit: red\n",
      "The color of the fruit:  hello\n",
      "The size of the fruit: small\n"
     ]
    }
   ],
   "source": [
    "class fruit:\n",
    "    def __init__(self):\n",
    "        self.color=\"hello\"\n",
    "        self.name=\"red\"\n",
    "        self.size=\"small\"\n",
    "    def method(self):\n",
    "        print(\"The name of the fruit:\",self.name)\n",
    "        print(\"The color of the fruit: \",self.color)\n",
    "        print(\"The size of the fruit:\",self.size)\n",
    "fruitobj=fruit()\n",
    "fruitobj.method()\n"
   ]
  },
  {
   "cell_type": "code",
   "execution_count": 12,
   "id": "1b7a7e20",
   "metadata": {},
   "outputs": [
    {
     "name": "stdout",
     "output_type": "stream",
     "text": [
      "The name of the fruit: apple\n",
      "The color of the fruit:  red\n",
      "The size of the fruit: large\n"
     ]
    }
   ],
   "source": [
    "class fruit:\n",
    "    def __init__(self):\n",
    "        self.color=\"hello\"\n",
    "        self.name=\"red\"\n",
    "        self.size=\"small\"\n",
    "    def method(self):\n",
    "        print(\"The name of the fruit:\",self.name)\n",
    "        print(\"The color of the fruit: \",self.color)\n",
    "        print(\"The size of the fruit:\",self.size)\n",
    "fruitobj=fruit()\n",
    "fruitobj.color=\"red\"\n",
    "fruitobj.name=\"apple\"\n",
    "fruitobj.size=\"large\"\n",
    "fruitobj.method()\n"
   ]
  },
  {
   "cell_type": "code",
   "execution_count": 9,
   "id": "9cdb6d12",
   "metadata": {},
   "outputs": [
    {
     "name": "stdout",
     "output_type": "stream",
     "text": [
      "The name of the fruit: mango\n",
      "the color of the fruit: yellow\n",
      "None\n"
     ]
    }
   ],
   "source": [
    "class fruits:\n",
    "    def __init__(self,name,color):\n",
    "        self.name=name\n",
    "        self.color=color\n",
    "    def display(self):\n",
    "        print(\"The name of the fruit:\",self.name)\n",
    "        print(\"the color of the fruit:\",self.color)\n",
    "obj=fruits(\"mango\",\"yellow\")\n",
    "print(obj.display())"
   ]
  },
  {
   "cell_type": "code",
   "execution_count": 13,
   "id": "e0f0279f",
   "metadata": {},
   "outputs": [
    {
     "name": "stdout",
     "output_type": "stream",
     "text": [
      "ram: 8gb\n",
      "Processor: i5\n",
      "ram: 26gb\n",
      "Processor: i7\n"
     ]
    }
   ],
   "source": [
    "class laptop:\n",
    "    def __init__(self):\n",
    "        self.ram=\"\"\n",
    "        self.processor=\"\"\n",
    "    def display(self):\n",
    "        print(\"ram:\",self.ram)\n",
    "        print(\"Processor:\",self.processor)\n",
    "hp=laptop()\n",
    "dell=laptop()\n",
    "hp.ram=\"8gb\"\n",
    "hp.processor=\"i5\"\n",
    "dell.ram=\"26gb\"\n",
    "dell.processor=\"i7\"\n",
    "hp.display()\n",
    "dell.display()"
   ]
  },
  {
   "cell_type": "code",
   "execution_count": 14,
   "id": "a040d233",
   "metadata": {},
   "outputs": [
    {
     "name": "stdout",
     "output_type": "stream",
     "text": [
      "Name: tcsmeesa I: i5 configuration: i\n",
      "Name:  I:  configuration: \n"
     ]
    }
   ],
   "source": [
    "class laptop:\n",
    "    \n",
    "    def __init__(self):\n",
    "        self.name=\"\"\n",
    "        self.i=\"\"\n",
    "        self.configuration=\"\"\n",
    "        \n",
    "    def display(self):\n",
    "        print('Name:',self.name,'I:',self.i,\"configuration:\",self.configuration)\n",
    "laptop1=laptop()\n",
    "dell=laptop()\n",
    "laptop1.name=\"tcsmeesa\"\n",
    "laptop1.i=\"i5\"\n",
    "laptop1.configuration=\"i\"\n",
    "laptop1.display()\n",
    "dell.display()"
   ]
  },
  {
   "cell_type": "markdown",
   "id": "de04c533",
   "metadata": {},
   "source": [
    "# constructor"
   ]
  },
  {
   "cell_type": "code",
   "execution_count": 10,
   "id": "ec6998ca",
   "metadata": {},
   "outputs": [
    {
     "name": "stdout",
     "output_type": "stream",
     "text": [
      "hello\n"
     ]
    }
   ],
   "source": [
    "class hello:\n",
    "    def __init__(self):\n",
    "        print(\"hello\")\n",
    "obj=hello()"
   ]
  },
  {
   "cell_type": "code",
   "execution_count": 15,
   "id": "173cf177",
   "metadata": {},
   "outputs": [
    {
     "name": "stdout",
     "output_type": "stream",
     "text": [
      "Alice\n",
      "30\n"
     ]
    }
   ],
   "source": [
    "class Person:\n",
    "    def __init__(self, name, age):\n",
    "        self.name = name\n",
    "        self.age = age\n",
    "person1 = Person(\"Alice\", 30)\n",
    "print(person1.name)  \n",
    "print(person1.age)  \n"
   ]
  },
  {
   "cell_type": "code",
   "execution_count": 16,
   "id": "0809f1cc",
   "metadata": {},
   "outputs": [
    {
     "name": "stdout",
     "output_type": "stream",
     "text": [
      "3\n",
      "4\n",
      "0\n",
      "0\n"
     ]
    }
   ],
   "source": [
    "class Point:\n",
    "    def __init__(self, x=0, y=0):\n",
    "        self.x = x\n",
    "        self.y = y\n",
    "\n",
    "\n",
    "point1 = Point(3, 4)\n",
    "print(point1.x) \n",
    "print(point1.y)\n",
    "\n",
    "point2 = Point()  \n",
    "print(point2.x)  \n",
    "print(point2.y) \n",
    "\n"
   ]
  },
  {
   "cell_type": "code",
   "execution_count": 17,
   "id": "2b56debd",
   "metadata": {},
   "outputs": [
    {
     "name": "stdout",
     "output_type": "stream",
     "text": [
      "Dog\n",
      "Buddy\n",
      "3\n"
     ]
    }
   ],
   "source": [
    "class Animal:\n",
    "    def __init__(self, species):\n",
    "        self.species = species\n",
    "class Dog(Animal):\n",
    "    def __init__(self, name, age):\n",
    "        super().__init__(\"Dog\")  \n",
    "        self.name = name\n",
    "        self.age = age\n",
    "dog1 = Dog(\"Buddy\", 3)\n",
    "print(dog1.species)  \n",
    "print(dog1.name)     \n",
    "print(dog1.age)     \n"
   ]
  },
  {
   "cell_type": "code",
   "execution_count": 18,
   "id": "7f4be899",
   "metadata": {},
   "outputs": [
    {
     "name": "stdout",
     "output_type": "stream",
     "text": [
      "[1, 2, 3, 4, 5]\n"
     ]
    }
   ],
   "source": [
    "class MyList:\n",
    "    def __init__(self, *args):\n",
    "        self.elements = list(args)\n",
    "\n",
    "# Creating an instance of the MyList class\n",
    "my_list = MyList(1, 2, 3, 4, 5)\n",
    "print(my_list.elements)  # Output: [1, 2, 3, 4, 5]\n"
   ]
  },
  {
   "cell_type": "markdown",
   "id": "96bc255d",
   "metadata": {},
   "source": [
    "# Type of class variable"
   ]
  },
  {
   "cell_type": "markdown",
   "id": "678ffde4",
   "metadata": {},
   "source": [
    "# Instance variable\n"
   ]
  },
  {
   "cell_type": "code",
   "execution_count": null,
   "id": "86e8e69c",
   "metadata": {},
   "outputs": [],
   "source": [
    "class MyClass:\n",
    "    def __init__(self, x):\n",
    "        self.x = x #instance variable\n",
    "obj1 = MyClass(5)\n",
    "obj2 = MyClass(10)\n",
    "print(obj1.x)  \n",
    "print(obj2.x)  "
   ]
  },
  {
   "cell_type": "markdown",
   "id": "c9dab0fd",
   "metadata": {},
   "source": [
    "# class variable\n"
   ]
  },
  {
   "cell_type": "code",
   "execution_count": 19,
   "id": "ad69dc3f",
   "metadata": {},
   "outputs": [
    {
     "name": "stdout",
     "output_type": "stream",
     "text": [
      "10\n",
      "10\n",
      "20\n",
      "20\n"
     ]
    }
   ],
   "source": [
    "class MyClass:\n",
    "    class_variable = 10\n",
    "\n",
    "obj1 = MyClass()\n",
    "obj2 = MyClass()\n",
    "\n",
    "print(obj1.class_variable) \n",
    "print(obj2.class_variable)  \n",
    "\n",
    "MyClass.class_variable = 20\n",
    "\n",
    "print(obj1.class_variable)  \n",
    "print(obj2.class_variable)  \n"
   ]
  },
  {
   "cell_type": "code",
   "execution_count": 20,
   "id": "4a1b9091",
   "metadata": {},
   "outputs": [
    {
     "name": "stdout",
     "output_type": "stream",
     "text": [
      "Total number of cars sold: 3\n",
      "Total number of cars sold: 3\n",
      "Total number of cars sold: 3\n",
      "Total number of cars sold: 3\n"
     ]
    }
   ],
   "source": [
    "class Car:\n",
    "    # Class variable\n",
    "    num_cars_sold = 0\n",
    "\n",
    "    def __init__(self, brand, model):\n",
    "        self.brand = brand\n",
    "        self.model = model\n",
    "        # Increment the class variable when a new Car instance is created\n",
    "        Car.num_cars_sold += 1\n",
    "\n",
    "# Create some instances of the Car class\n",
    "car1 = Car(\"Toyota\", \"Camry\")\n",
    "car2 = Car(\"Honda\", \"Accord\")\n",
    "car3 = Car(\"Ford\", \"Fusion\")\n",
    "\n",
    "# Accessing class variable through the class itself\n",
    "print(\"Total number of cars sold:\", Car.num_cars_sold)  # Output: 3\n",
    "\n",
    "# Accessing class variable through an instance\n",
    "print(\"Total number of cars sold:\", car1.num_cars_sold)  # Output: 3\n",
    "print(\"Total number of cars sold:\", car2.num_cars_sold)  # Output: 3\n",
    "print(\"Total number of cars sold:\", car3.num_cars_sold)  # Output: 3\n"
   ]
  },
  {
   "cell_type": "markdown",
   "id": "faead6ea",
   "metadata": {},
   "source": [
    "# type of class method"
   ]
  },
  {
   "cell_type": "markdown",
   "id": "3ef0126b",
   "metadata": {},
   "source": [
    "Instance Methods: These are the most common type of methods in Python classes. They operate on an instance of the class and can access and modify instance attributes. They take self as the first parameter, which refers to the instance of the class.\n",
    "Example:"
   ]
  },
  {
   "cell_type": "code",
   "execution_count": 21,
   "id": "0af4823f",
   "metadata": {},
   "outputs": [
    {
     "name": "stdout",
     "output_type": "stream",
     "text": [
      "This is an instance method.\n"
     ]
    }
   ],
   "source": [
    "class MyClass:\n",
    "    def instance_method(self):\n",
    "        print(\"This is an instance method.\")\n",
    "\n",
    "obj = MyClass()\n",
    "obj.instance_method()  # Output: This is an instance method.\n"
   ]
  },
  {
   "cell_type": "markdown",
   "id": "c274d185",
   "metadata": {},
   "source": [
    "Class Methods: These methods are bound to the class rather than its instances. They can access and modify class-level variables. They take cls as the first parameter, which refers to the class itself (similar to self for instance methods).\n",
    "Example:"
   ]
  },
  {
   "cell_type": "code",
   "execution_count": 24,
   "id": "a4763948",
   "metadata": {},
   "outputs": [
    {
     "name": "stdout",
     "output_type": "stream",
     "text": [
      "This is a class method.\n",
      "Class variable: 10\n"
     ]
    }
   ],
   "source": [
    "class MyClass:\n",
    "    class_variable = 10\n",
    "    \n",
    "    @classmethod\n",
    "    def class_method(cls):\n",
    "        print(\"This is a class method.\")\n",
    "        print(\"Class variable:\", cls.class_variable)\n",
    "\n",
    "MyClass.class_method()  "
   ]
  },
  {
   "cell_type": "markdown",
   "id": "016cc913",
   "metadata": {},
   "source": [
    "Static Methods: These methods are not bound to either the class or its instances. They behave like regular functions but are defined within the scope of the class for organizational purposes. They do not take self or cls as the first parameter.\n",
    "Example:"
   ]
  },
  {
   "cell_type": "code",
   "execution_count": 25,
   "id": "1d7c674b",
   "metadata": {},
   "outputs": [
    {
     "name": "stdout",
     "output_type": "stream",
     "text": [
      "This is a static method.\n"
     ]
    }
   ],
   "source": [
    "class MyClass:\n",
    "    @staticmethod\n",
    "    def static_method():\n",
    "        print(\"This is a static method.\")\n",
    "\n",
    "MyClass.static_method()  "
   ]
  },
  {
   "cell_type": "markdown",
   "id": "ce1704dc",
   "metadata": {},
   "source": [
    "In Python, the destructor method is called __del__(). It is invoked when an object is about to be destroyed or garbage collected. The primary purpose of a destructor is to perform cleanup actions such as releasing resources or closing files associated with the object before it is destroyed.\n",
    "\n",
    "Here's an example demonstrating the use of a destructor in Python:"
   ]
  },
  {
   "cell_type": "code",
   "execution_count": 26,
   "id": "c0b7078a",
   "metadata": {},
   "outputs": [
    {
     "name": "stdout",
     "output_type": "stream",
     "text": [
      "Object 1 is being destroyed.\n",
      "Object 2 is being destroyed.\n"
     ]
    }
   ],
   "source": [
    "class MyClass:\n",
    "    def __init__(self, name):\n",
    "        self.name = name\n",
    "\n",
    "    def __del__(self):\n",
    "        print(f\"{self.name} is being destroyed.\")\n",
    "\n",
    "# Creating instances of the MyClass class\n",
    "obj1 = MyClass(\"Object 1\")\n",
    "obj2 = MyClass(\"Object 2\")\n",
    "\n",
    "# Deleting objects manually\n",
    "del obj1\n",
    "del obj2\n"
   ]
  },
  {
   "cell_type": "markdown",
   "id": "4db0a410",
   "metadata": {},
   "source": [
    "# polymorphism"
   ]
  },
  {
   "cell_type": "markdown",
   "id": "616cde41",
   "metadata": {},
   "source": [
    "Polymorphism, in the context of object-oriented programming, refers to the ability of different objects to respond in their own unique way to the same message or method invocation. It allows objects of different classes to be treated as objects of a common superclass, providing a unified interface while each class implements its own version of methods.\n",
    "There are two main types of polymorphism:\n",
    "Compile-time Polymorphism (Static Binding or Early Binding): This type of polymorphism is resolved during compile time. It is achieved through method overloading or operator overloading.\n",
    "\n",
    "Method Overloading: It involves defining multiple methods in a class with the same name but with different parameter lists. The appropriate method to be executed is determined based on the number and type of arguments passed to it."
   ]
  },
  {
   "cell_type": "markdown",
   "id": "2656f73b",
   "metadata": {},
   "source": [
    "Method overloading is an important feature of object-oriented programming. Java, C++, C# languages support method overloading, but in Python it is not possible to perform method overloading.\n",
    "When you have a class with method of one name defined more than one but with different argument types and/or return type, it is a case of method overloading. Python doesn't support this mechanism as the following code shows −\n",
    "\n",
    "  "
   ]
  },
  {
   "cell_type": "code",
   "execution_count": 34,
   "id": "f169529d",
   "metadata": {},
   "outputs": [
    {
     "ename": "TypeError",
     "evalue": "MyClass.add() missing 1 required positional argument: 'c'",
     "output_type": "error",
     "traceback": [
      "\u001b[1;31m---------------------------------------------------------------------------\u001b[0m",
      "\u001b[1;31mTypeError\u001b[0m                                 Traceback (most recent call last)",
      "Cell \u001b[1;32mIn[34], line 9\u001b[0m\n\u001b[0;32m      6\u001b[0m         \u001b[38;5;28;01mreturn\u001b[39;00m a \u001b[38;5;241m+\u001b[39m b \u001b[38;5;241m+\u001b[39m c\n\u001b[0;32m      8\u001b[0m obj \u001b[38;5;241m=\u001b[39m MyClass()\n\u001b[1;32m----> 9\u001b[0m \u001b[38;5;28mprint\u001b[39m(obj\u001b[38;5;241m.\u001b[39madd(\u001b[38;5;241m2\u001b[39m, \u001b[38;5;241m3\u001b[39m))     \u001b[38;5;66;03m# Output: Error (Method not found)\u001b[39;00m\n\u001b[0;32m     10\u001b[0m \u001b[38;5;28mprint\u001b[39m(obj\u001b[38;5;241m.\u001b[39madd(\u001b[38;5;241m2\u001b[39m, \u001b[38;5;241m3\u001b[39m, \u001b[38;5;241m4\u001b[39m))\n",
      "\u001b[1;31mTypeError\u001b[0m: MyClass.add() missing 1 required positional argument: 'c'"
     ]
    }
   ],
   "source": [
    "class MyClass:\n",
    "    def add(self, a, b):\n",
    "        return a + b\n",
    "    \n",
    "    def add(self, a, b, c):\n",
    "        return a + b + c\n",
    "    \n",
    "obj = MyClass()\n",
    "print(obj.add(2, 3))     # Output: Error (Method not found)\n",
    "print(obj.add(2, 3, 4))  # Output: 9\n"
   ]
  },
  {
   "cell_type": "markdown",
   "id": "1aa21fe9",
   "metadata": {},
   "source": [
    "# It will not support method overloading"
   ]
  },
  {
   "cell_type": "markdown",
   "id": "2ae0399b",
   "metadata": {},
   "source": [
    "# method overriding"
   ]
  },
  {
   "cell_type": "markdown",
   "id": "d0fdd08e",
   "metadata": {},
   "source": [
    "Run-time Polymorphism (Dynamic Binding or Late Binding): This type of polymorphism is resolved during run time. It is achieved through method overriding, where a subclass provides a specific implementation of a method that is already defined in its superclass."
   ]
  },
  {
   "cell_type": "code",
   "execution_count": 35,
   "id": "03842e7e",
   "metadata": {},
   "outputs": [
    {
     "name": "stdout",
     "output_type": "stream",
     "text": [
      "Animal makes a sound\n",
      "Dog barks\n",
      "Cat meows\n"
     ]
    }
   ],
   "source": [
    "class Animal:\n",
    "    def sound(self):\n",
    "        print(\"Animal makes a sound\")\n",
    "\n",
    "class Dog(Animal):\n",
    "    def sound(self):\n",
    "        print(\"Dog barks\")\n",
    "\n",
    "class Cat(Animal):\n",
    "    def sound(self):\n",
    "        print(\"Cat meows\")\n",
    "\n",
    "# Polymorphism\n",
    "def make_sound(animal):\n",
    "    animal.sound()\n",
    "\n",
    "# Creating instances of different classes\n",
    "animal = Animal()\n",
    "dog = Dog()\n",
    "cat = Cat()\n",
    "\n",
    "\n",
    "make_sound(animal)  # Output: Animal makes a sound\n",
    "make_sound(dog)     # Output: Dog barks\n",
    "make_sound(cat)     # Output: Cat meows\n"
   ]
  },
  {
   "cell_type": "markdown",
   "id": "8a532a7c",
   "metadata": {},
   "source": [
    "# Inheritance is a fundamental concept in object-oriented programming (OOP) that allows a new class (subclass) to inherit attributes and methods from an existing class (superclass). This promotes code reuse and helps create a hierarchy of classes with shared characteristics and behaviors.\n",
    "\n",
    "# In Python, you can create a subclass by specifying the superclass(es) in parentheses after the class name. The subclass inherits all attributes and methods of the superclass(es) and can override them or define new ones."
   ]
  },
  {
   "cell_type": "markdown",
   "id": "6605f7c1",
   "metadata": {},
   "source": [
    "# Single Inheritance:\n",
    "\n"
   ]
  },
  {
   "cell_type": "code",
   "execution_count": 36,
   "id": "47736762",
   "metadata": {},
   "outputs": [
    {
     "name": "stdout",
     "output_type": "stream",
     "text": [
      "Some sound\n",
      "Woof!\n"
     ]
    }
   ],
   "source": [
    "class Animal:\n",
    "    def sound(self):\n",
    "        print(\"Some sound\")\n",
    "\n",
    "class Dog(Animal):\n",
    "    def bark(self):\n",
    "        print(\"Woof!\")\n",
    "\n",
    "# Example usage\n",
    "dog = Dog()\n",
    "dog.sound()  # Output: Some sound\n",
    "dog.bark()   # Output: Woof!\n"
   ]
  },
  {
   "cell_type": "markdown",
   "id": "11fe451e",
   "metadata": {},
   "source": [
    "# Multiple inheritance"
   ]
  },
  {
   "cell_type": "code",
   "execution_count": 37,
   "id": "f779e1bf",
   "metadata": {},
   "outputs": [
    {
     "name": "stdout",
     "output_type": "stream",
     "text": [
      "Method A from class A\n",
      "Method B from class B\n",
      "Method C from class C\n"
     ]
    }
   ],
   "source": [
    "class A:\n",
    "    def method_A(self):\n",
    "        print(\"Method A from class A\")\n",
    "\n",
    "class B:\n",
    "    def method_B(self):\n",
    "        print(\"Method B from class B\")\n",
    "\n",
    "class C(A, B):\n",
    "    def method_C(self):\n",
    "        print(\"Method C from class C\")\n",
    "\n",
    "# Example usage\n",
    "c = C()\n",
    "c.method_A()  # Output: Method A from class A\n",
    "c.method_B()  # Output: Method B from class B\n",
    "c.method_C()  # Output: Method C from class C\n"
   ]
  },
  {
   "cell_type": "markdown",
   "id": "c259ed91",
   "metadata": {},
   "source": [
    "# multilevel inheritance"
   ]
  },
  {
   "cell_type": "code",
   "execution_count": 38,
   "id": "12279818",
   "metadata": {},
   "outputs": [
    {
     "name": "stdout",
     "output_type": "stream",
     "text": [
      "Some sound\n",
      "Woof!\n",
      "Brown\n"
     ]
    }
   ],
   "source": [
    "class Animal:\n",
    "    def sound(self):\n",
    "        print(\"Some sound\")\n",
    "\n",
    "class Dog(Animal):\n",
    "    def bark(self):\n",
    "        print(\"Woof!\")\n",
    "\n",
    "class Labrador(Dog):\n",
    "    def color(self):\n",
    "        print(\"Brown\")\n",
    "\n",
    "# Example usage\n",
    "labrador = Labrador()\n",
    "labrador.sound()  # Output: Some sound\n",
    "labrador.bark()   # Output: Woof!\n",
    "labrador.color()  # Output: Brown\n"
   ]
  },
  {
   "cell_type": "markdown",
   "id": "46285b39",
   "metadata": {},
   "source": [
    "# 4. Hierarchical Inheritance:"
   ]
  },
  {
   "cell_type": "code",
   "execution_count": 39,
   "id": "7e13a6b8",
   "metadata": {},
   "outputs": [
    {
     "name": "stdout",
     "output_type": "stream",
     "text": [
      "Some sound\n",
      "Woof!\n",
      "Some sound\n",
      "Meow!\n"
     ]
    }
   ],
   "source": [
    "class Animal:\n",
    "    def sound(self):\n",
    "        print(\"Some sound\")\n",
    "\n",
    "class Dog(Animal):\n",
    "    def bark(self):\n",
    "        print(\"Woof!\")\n",
    "\n",
    "class Cat(Animal):\n",
    "    def meow(self):\n",
    "        print(\"Meow!\")\n",
    "\n",
    "# Example usage\n",
    "dog = Dog()\n",
    "cat = Cat()\n",
    "dog.sound()  # Output: Some sound\n",
    "dog.bark()   # Output: Woof!\n",
    "cat.sound()  # Output: Some sound\n",
    "cat.meow()   # Output: Meow!\n"
   ]
  },
  {
   "cell_type": "markdown",
   "id": "f30ec3db",
   "metadata": {},
   "source": [
    "# Hybrid inheritance"
   ]
  },
  {
   "cell_type": "code",
   "execution_count": 40,
   "id": "45ada66b",
   "metadata": {},
   "outputs": [
    {
     "name": "stdout",
     "output_type": "stream",
     "text": [
      "Method A from class A\n",
      "Method B from class B\n",
      "Method C from class C\n",
      "Method D from class D\n"
     ]
    }
   ],
   "source": [
    "class A:\n",
    "    def method_A(self):\n",
    "        print(\"Method A from class A\")\n",
    "\n",
    "class B(A):\n",
    "    def method_B(self):\n",
    "        print(\"Method B from class B\")\n",
    "\n",
    "class C(A):\n",
    "    def method_C(self):\n",
    "        print(\"Method C from class C\")\n",
    "\n",
    "class D(B, C):\n",
    "    def method_D(self):\n",
    "        print(\"Method D from class D\")\n",
    "\n",
    "# Example usage\n",
    "d = D()\n",
    "d.method_A()  # Output: Method A from class A\n",
    "d.method_B()  # Output: Method B from class B\n",
    "d.method_C()  # Output: Method C from class C\n",
    "d.method_D()  # Output: Method D from class D\n"
   ]
  },
  {
   "cell_type": "markdown",
   "id": "f4606166",
   "metadata": {},
   "source": [
    "# Encapsulation"
   ]
  },
  {
   "cell_type": "markdown",
   "id": "41806e35",
   "metadata": {},
   "source": [
    "Public Member: Accessible anywhere from otside oclass.\n",
    "Private Member: Accessible within the class\n",
    "Protected Member: Accessible within the class and its sub-classes"
   ]
  },
  {
   "cell_type": "markdown",
   "id": "9378df8b",
   "metadata": {},
   "source": [
    "# public member"
   ]
  },
  {
   "cell_type": "code",
   "execution_count": 44,
   "id": "61cd503f",
   "metadata": {},
   "outputs": [
    {
     "name": "stdout",
     "output_type": "stream",
     "text": [
      "Name:  Jessa Salary: 10000\n",
      "Name:  Jessa Salary: 10000\n"
     ]
    }
   ],
   "source": [
    "class Employee:\n",
    "    # constructor\n",
    "    def __init__(self, name, salary):\n",
    "        # public data members\n",
    "        self.name = name\n",
    "        self.salary = salary\n",
    "\n",
    "    # public instance methods\n",
    "    def show(self):\n",
    "        # accessing public data member\n",
    "        print(\"Name: \", self.name, 'Salary:', self.salary)\n",
    "\n",
    "# creating object of a class\n",
    "emp = Employee('Jessa', 10000)\n",
    "\n",
    "# accessing public data members\n",
    "print(\"Name: \", emp.name, 'Salary:', emp.salary)\n",
    "\n",
    "# calling public method of the class\n",
    "emp.show()"
   ]
  },
  {
   "cell_type": "markdown",
   "id": "031fc281",
   "metadata": {},
   "source": [
    "# private member"
   ]
  },
  {
   "cell_type": "code",
   "execution_count": 45,
   "id": "5916dfc8",
   "metadata": {},
   "outputs": [
    {
     "ename": "AttributeError",
     "evalue": "'Employee' object has no attribute '__salary'",
     "output_type": "error",
     "traceback": [
      "\u001b[1;31m---------------------------------------------------------------------------\u001b[0m",
      "\u001b[1;31mAttributeError\u001b[0m                            Traceback (most recent call last)",
      "Cell \u001b[1;32mIn[45], line 13\u001b[0m\n\u001b[0;32m     10\u001b[0m emp \u001b[38;5;241m=\u001b[39m Employee(\u001b[38;5;124m'\u001b[39m\u001b[38;5;124mJessa\u001b[39m\u001b[38;5;124m'\u001b[39m, \u001b[38;5;241m10000\u001b[39m)\n\u001b[0;32m     12\u001b[0m \u001b[38;5;66;03m# accessing private data members\u001b[39;00m\n\u001b[1;32m---> 13\u001b[0m \u001b[38;5;28mprint\u001b[39m(\u001b[38;5;124m'\u001b[39m\u001b[38;5;124mSalary:\u001b[39m\u001b[38;5;124m'\u001b[39m, emp\u001b[38;5;241m.\u001b[39m__salary)\n",
      "\u001b[1;31mAttributeError\u001b[0m: 'Employee' object has no attribute '__salary'"
     ]
    }
   ],
   "source": [
    "class Employee:\n",
    "    # constructor\n",
    "    def __init__(self, name, salary):\n",
    "        # public data member\n",
    "        self.name = name\n",
    "        # private member\n",
    "        self.__salary = salary\n",
    "\n",
    "# creating object of a class\n",
    "emp = Employee('Jessa', 10000)\n",
    "\n",
    "# accessing private data members\n",
    "print('Salary:',emp.__salary)"
   ]
  },
  {
   "cell_type": "code",
   "execution_count": 47,
   "id": "dc418d69",
   "metadata": {},
   "outputs": [
    {
     "name": "stdout",
     "output_type": "stream",
     "text": [
      "Calling protected member of base class:  2\n",
      "Calling modified protected member outside class:  3\n",
      "Accessing protected member of obj1:  3\n",
      "Accessing protected member of obj2:  2\n"
     ]
    }
   ],
   "source": [
    "class Base: \n",
    "    def __init__(self): \n",
    "  \n",
    "        # Protected member \n",
    "        self._a = 2\n",
    "  \n",
    "# Creating a derived class \n",
    "class Derived(Base): \n",
    "    def __init__(self): \n",
    "  \n",
    "        # Calling constructor of \n",
    "        # Base class \n",
    "        Base.__init__(self) \n",
    "        print(\"Calling protected member of base class: \",  \n",
    "              self._a) \n",
    "  \n",
    "        # Modify the protected variable: \n",
    "        self._a = 3\n",
    "        print(\"Calling modified protected member outside class: \", \n",
    "              self._a) \n",
    "  \n",
    "  \n",
    "obj1 = Derived() \n",
    "  \n",
    "obj2 = Base() \n",
    "  \n",
    "# Calling protected member \n",
    "# Can be accessed but should not be done due to convention \n",
    "print(\"Accessing protected member of obj1: \", obj1._a) \n",
    "  \n",
    "# Accessing the protected variable outside \n",
    "print(\"Accessing protected member of obj2: \", obj2._a) "
   ]
  },
  {
   "cell_type": "markdown",
   "id": "effc2e8c",
   "metadata": {},
   "source": [
    "# protected member"
   ]
  },
  {
   "cell_type": "code",
   "execution_count": 46,
   "id": "3bfb51eb",
   "metadata": {},
   "outputs": [
    {
     "name": "stdout",
     "output_type": "stream",
     "text": [
      "Employee name : Jessa\n",
      "Working on project : NLP\n",
      "Project: NLP\n"
     ]
    }
   ],
   "source": [
    "# base class\n",
    "class Company:\n",
    "    def __init__(self):\n",
    "        # Protected member\n",
    "        self._project = \"NLP\"\n",
    "\n",
    "# child class\n",
    "class Employee(Company):\n",
    "    def __init__(self, name):\n",
    "        self.name = name\n",
    "        Company.__init__(self)\n",
    "\n",
    "    def show(self):\n",
    "        print(\"Employee name :\", self.name)\n",
    "        # Accessing protected member in child class\n",
    "        print(\"Working on project :\", self._project)\n",
    "\n",
    "c = Employee(\"Jessa\")\n",
    "c.show()\n",
    "\n",
    "# Direct access protected data member\n",
    "print('Project:', c._project)"
   ]
  },
  {
   "cell_type": "code",
   "execution_count": null,
   "id": "6779d82d",
   "metadata": {},
   "outputs": [],
   "source": []
  }
 ],
 "metadata": {
  "kernelspec": {
   "display_name": "Python 3 (ipykernel)",
   "language": "python",
   "name": "python3"
  },
  "language_info": {
   "codemirror_mode": {
    "name": "ipython",
    "version": 3
   },
   "file_extension": ".py",
   "mimetype": "text/x-python",
   "name": "python",
   "nbconvert_exporter": "python",
   "pygments_lexer": "ipython3",
   "version": "3.11.5"
  }
 },
 "nbformat": 4,
 "nbformat_minor": 5
}
